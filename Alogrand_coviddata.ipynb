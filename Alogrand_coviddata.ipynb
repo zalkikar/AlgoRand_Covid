{
 "cells": [
  {
   "cell_type": "markdown",
   "metadata": {},
   "source": [
    "# Algorand Covid-19 Project\n",
    "\n",
    "## Demo: Bulk survey transaction scrape from Algorand mainnet via PureStake API\n",
    "## Rahul Zalkikar | rz1567@nyu.edu\n",
    "\n",
    "### Source documentation:\n",
    "https://github.com/algorandfoundation/IReport-Covid/blob/master/js/retrieveData.js"
   ]
  },
  {
   "cell_type": "code",
   "execution_count": 148,
   "metadata": {},
   "outputs": [],
   "source": [
    "import algosdk\n",
    "import math\n",
    "import pandas as pd\n",
    "pd.set_option('display.max_rows', None)\n",
    "pd.set_option('display.max_columns', None)\n",
    "import numpy as np\n",
    "from datetime import datetime\n",
    "\n",
    "\n",
    "import py_algorand # class sript"
   ]
  },
  {
   "cell_type": "code",
   "execution_count": 115,
   "metadata": {},
   "outputs": [],
   "source": [
    "# attribute array\n",
    "headers = [\n",
    "    \n",
    "    'a',\n",
    "    \n",
    "    '_t',  \n",
    "    '_v',  \n",
    "\n",
    "    # general demographic data\n",
    "    'gc',  # string, country code (see Location Data section below)\n",
    "    'gr',  # string, region code  (see Location Data section below)\n",
    "    'gzp', # string, 3-digit zip code (US only)\n",
    "    'ga',  # integer, age group, if present must be in 1,11,21,31,41,51,56,61,66,71,76,81,85\n",
    "    'gs',  # string , gender, if present must be 'm','f'\n",
    "\n",
    "    # symptoms\n",
    "    'sz',  # integer, is symptomatic, no-answer=0/no=-1/yes=1\n",
    "    's1',  # boolean, fever\n",
    "    's2',  # boolean, cough\n",
    "    's3',  # boolean, difficulty breathing\n",
    "    's4',  # boolean, fatigue\n",
    "    's5',  # boolean, sore throat\n",
    "    'sds', # date, when symptoms started, yyyy-mm-dd\n",
    "    'sde', # date, when symptoms ended, yyyy-mm-dd\n",
    "    'sdn', # boolean, still symptomatic\n",
    "\n",
    "    #tested\n",
    "    'tz',  # integer, tested, no-answer=0/no=-1/yes=1\n",
    "    'tt',  # integer, tried to get tested, no=-1, yes=1, yes but was denied=2\n",
    "    'td',  # date, test date, yyyy-mm-dd\n",
    "    'tr',  # integer, test results, -1=negative,1=positive,2=waiting for result\n",
    "    'tl',  #  integer, test location, 1=Dr office/2=Hospital/3=Urgent care/4=Ad-hoc center/5=Other\n",
    "\n",
    "    # medical care\n",
    "    'mz',  #  integer, received care, no-answer=0/no=-1/yes=1\n",
    "    'm1',  #  boolean, doctor's office\n",
    "    'm2',  #  boolean, walk-in clinic\n",
    "    'm3',  #  boolean, virtual care\n",
    "    'm4',  #  boolean, hospital/ER\n",
    "    'm5',  #  boolean, other\n",
    "    'mh',  #  integer, hospitalized, no-answer=0/no=-1/yes=1\n",
    "    'mhs', #  date, when admitted, yyyy-mm-dd\n",
    "    'mhe', #  date, when discharged, yyyy-mm-dd\n",
    "    'mhn', #  boolean, still in hospital\n",
    "\n",
    "    # quarantine\n",
    "    'qz',  # integer, was quarantined, no-answer=0/no=-1/yes=1\n",
    "    'q1',  # boolean, due to symptoms\n",
    "    'q2',  # boolean, voluntarily\n",
    "    'q3',  # boolean, personally required\n",
    "    'q4',  # boolean, general quarantine\n",
    "    'qds', # date, when quarantine started, yyyy-mm-dd\n",
    "    'qde', # date, when quarantine ended, yyyy-mm-dd\n",
    "    'qdn', # boolean, still quarantined\n",
    "    'ql',  # integer, left quarantine temporarily no-answer=0/no=-1/yes=1\n",
    "\n",
    "    'consent' # boolean' , user's consent, mandatory, must be 'true'\n",
    "]"
   ]
  },
  {
   "cell_type": "code",
   "execution_count": 2,
   "metadata": {},
   "outputs": [
    {
     "name": "stdout",
     "output_type": "stream",
     "text": [
      "algod last round: 5807195\n",
      "algod time since last round: 1587840052\n",
      "algod catchup: 0\n",
      "algod latest version: https://github.com/algorandfoundation/specs/tree/4a9db6a25595c6fd097cf9cc137cc83027787eaa\n",
      "####################\n",
      "{'hash': 'CSAQV5WCW2MFSTSQATMNYBWHTQWXLDWNL2BPWH3WASCAOY3FOS4Q', 'previousBlockHash': 'P2URKRI7ATPOV3K25IUTIC3Q5XVQME7SIKSZJ7KPODHJI553EZXQ', 'seed': 'N6GSSH6MYXZSOZJLZOZA72SBMZMSGNIGL3X4GGCQO7TJ2I5G3LLA', 'proposer': 'FTXSKED23VEXNW442T2JKNPPNUC2WKFNRWBVQTFMT7HYX365IVLZXYILAI', 'round': 5807195, 'period': 0, 'txnRoot': 'WRS2VL2OQ5LPWBYLNBCZV3MEQ4DACSRDES6IUKHGOWYQERJRWC5A', 'reward': 114302, 'rate': 25999980, 'frac': 1159865138, 'txns': {}, 'timestamp': 1585763530, 'currentProtocol': 'https://github.com/algorandfoundation/specs/tree/4a9db6a25595c6fd097cf9cc137cc83027787eaa', 'nextProtocol': '', 'nextProtocolApprovals': 0, 'nextProtocolVoteBefore': 0, 'nextProtocolSwitchOn': 0, 'upgradePropose': '', 'upgradeApprove': False}\n",
      "\n",
      " total rounds: 161195\n",
      "found 161500 transactions\n"
     ]
    }
   ],
   "source": [
    "purestake_api_key = '94IaBae3fC56OeZtiWIY03TL5K4qeQjE5thyZbF0'\n",
    "covidData_scraper = py_algorand.Algorand_IReportScrape(purestake_api_key)"
   ]
  },
  {
   "cell_type": "code",
   "execution_count": 116,
   "metadata": {},
   "outputs": [],
   "source": [
    "txns = covidData_scraper.get_txns()"
   ]
  },
  {
   "cell_type": "code",
   "execution_count": null,
   "metadata": {},
   "outputs": [
    {
     "name": "stdout",
     "output_type": "stream",
     "text": [
      "0 transactions decoded\n",
      "1000 transactions decoded\n",
      "2000 transactions decoded\n",
      "3000 transactions decoded\n",
      "4000 transactions decoded\n",
      "5000 transactions decoded\n",
      "6000 transactions decoded\n",
      "7000 transactions decoded\n",
      "8000 transactions decoded\n",
      "9000 transactions decoded\n",
      "10000 transactions decoded\n",
      "11000 transactions decoded\n",
      "12000 transactions decoded\n",
      "13000 transactions decoded\n",
      "14000 transactions decoded\n",
      "15000 transactions decoded\n",
      "16000 transactions decoded\n",
      "17000 transactions decoded\n",
      "18000 transactions decoded\n",
      "19000 transactions decoded\n",
      "20000 transactions decoded\n",
      "21000 transactions decoded\n",
      "22000 transactions decoded\n",
      "23000 transactions decoded\n",
      "24000 transactions decoded\n",
      "25000 transactions decoded\n",
      "26000 transactions decoded\n",
      "27000 transactions decoded\n",
      "28000 transactions decoded\n",
      "29000 transactions decoded\n",
      "30000 transactions decoded\n"
     ]
    }
   ],
   "source": [
    "data_df = pd.DataFrame()\n",
    "\n",
    "###### DECODING DATA\n",
    "for i in range(len(txns)):\n",
    "    if (i%1000 == 0): print(\"{} transactions decoded\".format(i))\n",
    "    tx_dict = txns[i]\n",
    "    tx_code = tx_dict['tx']\n",
    "    encoded_note = tx_dict['noteb64']\n",
    "    decoded_note = algosdk.encoding.msgpack.unpackb(algosdk.encoding.base64.b64decode(encoded_note))\n",
    "    decoded_note = decoded_note[b'd']\n",
    "    decoded_note_data = {\n",
    "        key.decode() if isinstance(key, bytes) else key:\n",
    "        val.decode() if isinstance(val, bytes) else val\n",
    "        for key, val in decoded_note.items()\n",
    "    }\n",
    "    decoded_note_data.update({'a':tx_code})\n",
    "    cleaned_note_data = {key:None for key in headers}\n",
    "    cleaned_note_data.update(decoded_note_data)\n",
    "    #print(cleaned_note_data)\n",
    "    data_df = data_df.append(cleaned_note_data, ignore_index=True)"
   ]
  },
  {
   "cell_type": "code",
   "execution_count": null,
   "metadata": {},
   "outputs": [],
   "source": [
    "data_df.head()"
   ]
  },
  {
   "cell_type": "code",
   "execution_count": null,
   "metadata": {},
   "outputs": [],
   "source": [
    "cols = [\"_t\",\"_v\",\"tx_id\",\"consent\",\"age_group\",\"country_code\",\"region_code\",\"gender\",\"3_dig_zip\",\n",
    "          \"doctors_office\",\"walk_in_clinic\",\"virtual_care\",\"hospital_or_ER\",\"other\",\n",
    "           \"hospitalized\",\"when_discharged\",\"still_in_hospital\",\"when_admitted\",\"received_care\",\n",
    "          \"symptom_quarantine\",\"voluntary_quarantine\",\"personally_required_quarantine\",\"general_quarantine\",\n",
    "          \"when_quarantine_ended\",\"still_in_quarantine\",\"when_quarantine_started\",\"left_quarantine_temporarily\",\"was_quarantined\",\n",
    "          \"fever\",\"cough\",\"difficulty_breathing\",\"fatigue\",\"sore_throat\",\"when_symptoms_ended\",\"still_symptomatic\",\"when_symptoms_started\",\"is_symptomatic\",\n",
    "          \"test_date\",\"test_location\",\"test_results\",\"tried_to_get_tested\",\"tested\"]\n",
    "\n",
    "print(len(cols)==len(headers)==len(data_df.columns))"
   ]
  },
  {
   "cell_type": "code",
   "execution_count": null,
   "metadata": {},
   "outputs": [],
   "source": [
    "data_df.columns = cols\n",
    "print(data_df.shape)\n",
    "display(data_df.head())"
   ]
  },
  {
   "cell_type": "code",
   "execution_count": null,
   "metadata": {},
   "outputs": [],
   "source": [
    "datetime.today().strftime('%Y-%m-%d')"
   ]
  },
  {
   "cell_type": "code",
   "execution_count": null,
   "metadata": {},
   "outputs": [],
   "source": []
  },
  {
   "cell_type": "code",
   "execution_count": null,
   "metadata": {},
   "outputs": [],
   "source": [
    "data_df.to_csv('covidData.csv',index=False)"
   ]
  }
 ],
 "metadata": {
  "kernelspec": {
   "display_name": "Python 3",
   "language": "python",
   "name": "python3"
  },
  "language_info": {
   "codemirror_mode": {
    "name": "ipython",
    "version": 3
   },
   "file_extension": ".py",
   "mimetype": "text/x-python",
   "name": "python",
   "nbconvert_exporter": "python",
   "pygments_lexer": "ipython3",
   "version": "3.7.1"
  }
 },
 "nbformat": 4,
 "nbformat_minor": 4
}
